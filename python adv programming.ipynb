{
  "nbformat": 4,
  "nbformat_minor": 0,
  "metadata": {
    "colab": {
      "provenance": [],
      "toc_visible": true,
      "authorship_tag": "ABX9TyOYgaaR27sbiPncwMLTQ++4",
      "include_colab_link": true
    },
    "kernelspec": {
      "name": "python3",
      "display_name": "Python 3"
    },
    "language_info": {
      "name": "python"
    }
  },
  "cells": [
    {
      "cell_type": "markdown",
      "metadata": {
        "id": "view-in-github",
        "colab_type": "text"
      },
      "source": [
        "<a href=\"https://colab.research.google.com/github/DeepikaKambhammettu/Python/blob/main/python%20adv%20programming.ipynb\" target=\"_parent\"><img src=\"https://colab.research.google.com/assets/colab-badge.svg\" alt=\"Open In Colab\"/></a>"
      ]
    },
    {
      "cell_type": "code",
      "execution_count": 62,
      "metadata": {
        "colab": {
          "base_uri": "https://localhost:8080/"
        },
        "id": "0_J9nW3djzS_",
        "outputId": "801793a9-df7e-4f45-da70-14ac5d033201"
      },
      "outputs": [
        {
          "output_type": "stream",
          "name": "stdout",
          "text": [
            "15\n",
            "100\n",
            "1\n",
            "22\n",
            "1\n",
            "<class 'map'>\n",
            "<class 'tuple'>\n",
            "[2, 4, 6, 8]\n",
            "(1, 2, 3, 4)\n"
          ]
        }
      ],
      "source": [
        "x = lambda a : a + 10\n",
        "print(x(5))\n",
        "\n",
        "\n",
        "t = lambda a : a * a\n",
        "print(t(10))\n",
        "\n",
        "t = lambda a : 1\n",
        "print(t(\"dd\"))\n",
        "\n",
        "t = lambda a,b : a * b\n",
        "t(2,3)\n",
        "\n",
        "def myfunc(n):\n",
        "  return lambda a : a * n\n",
        "mydoubler = myfunc(2)\n",
        "print(mydoubler(11))\n",
        "\n",
        "def mysquare(a):\n",
        "  return lambda a : a * a\n",
        "mysquarevar = mysquare(100)\n",
        "print(mysquarevar(1))\n",
        "\n",
        "#map\n",
        "\n",
        "def addition(n):\n",
        "  return n+n\n",
        "numbers = ( 1,2,3,4)\n",
        "result = map(addition,numbers)\n",
        "print(type(result))\n",
        "print(type(numbers))\n",
        "print(list(result))\n",
        "print(numbers)\n",
        "\n",
        "\n",
        "\n",
        "\n"
      ]
    },
    {
      "cell_type": "code",
      "source": [],
      "metadata": {
        "id": "5Xrfi66sk-tk"
      },
      "execution_count": null,
      "outputs": []
    }
  ]
}