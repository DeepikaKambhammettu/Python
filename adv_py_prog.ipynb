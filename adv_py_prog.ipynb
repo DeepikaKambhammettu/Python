{
  "nbformat": 4,
  "nbformat_minor": 0,
  "metadata": {
    "colab": {
      "provenance": [],
      "toc_visible": true,
      "authorship_tag": "ABX9TyO1g/7JLQjuxratLvRunFDy",
      "include_colab_link": true
    },
    "kernelspec": {
      "name": "python3",
      "display_name": "Python 3"
    },
    "language_info": {
      "name": "python"
    }
  },
  "cells": [
    {
      "cell_type": "markdown",
      "metadata": {
        "id": "view-in-github",
        "colab_type": "text"
      },
      "source": [
        "<a href=\"https://colab.research.google.com/github/DeepikaKambhammettu/Python/blob/main/adv_py_prog.ipynb\" target=\"_parent\"><img src=\"https://colab.research.google.com/assets/colab-badge.svg\" alt=\"Open In Colab\"/></a>"
      ]
    },
    {
      "cell_type": "code",
      "execution_count": 19,
      "metadata": {
        "colab": {
          "base_uri": "https://localhost:8080/"
        },
        "id": "0_J9nW3djzS_",
        "outputId": "a0b566d2-6008-486c-c278-e37333f05422"
      },
      "outputs": [
        {
          "output_type": "stream",
          "name": "stdout",
          "text": [
            "20\n",
            "90\n",
            "func 22\n"
          ]
        }
      ],
      "source": [
        "x = lambda a : a + 10\n",
        "print(x(10))\n",
        "\n",
        "tx = lambda x : x *3\n",
        "print(tx(30))\n",
        "#print(x(30))\n",
        "\n",
        "a = lambda x,y:x+y\n",
        "a(11,22)\n",
        "\n",
        "def myfunc(n):\n",
        "  return lambda a : a * n\n",
        "\n",
        "mydoubler = myfunc(2)\n",
        "\n",
        "print(\"func\", mydoubler(11))"
      ]
    },
    {
      "cell_type": "code",
      "source": [],
      "metadata": {
        "id": "5Xrfi66sk-tk"
      },
      "execution_count": null,
      "outputs": []
    }
  ]
}